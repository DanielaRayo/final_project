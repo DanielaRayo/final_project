{
 "cells": [
  {
   "cell_type": "code",
   "execution_count": 1,
   "id": "6014b1fd-9529-4eae-8949-6325a00d0d67",
   "metadata": {},
   "outputs": [
    {
     "name": "stdout",
     "output_type": "stream",
     "text": [
      "visualization\n"
     ]
    }
   ],
   "source": [
    "print(\"visualization\")"
   ]
  },
  {
   "cell_type": "code",
   "execution_count": null,
   "id": "2dba9d72-af1e-4c77-b115-f52a6b2e5726",
   "metadata": {},
   "outputs": [],
   "source": []
  }
 ],
 "metadata": {
  "kernelspec": {
   "display_name": "Python 3 (ipykernel)",
   "language": "python",
   "name": "python3"
  },
  "language_info": {
   "codemirror_mode": {
    "name": "ipython",
    "version": 3
   },
   "file_extension": ".py",
   "mimetype": "text/x-python",
   "name": "python",
   "nbconvert_exporter": "python",
   "pygments_lexer": "ipython3",
   "version": "3.11.9"
  }
 },
 "nbformat": 4,
 "nbformat_minor": 5
}
