{
 "cells": [
  {
   "cell_type": "code",
   "execution_count": 1,
   "id": "90ced377-b1c1-4d4b-a156-fd9f68bc5ceb",
   "metadata": {},
   "outputs": [
    {
     "name": "stdout",
     "output_type": "stream",
     "text": [
      "suitability_analysis\n"
     ]
    }
   ],
   "source": [
    "print(\"suitability_analysis\")"
   ]
  },
  {
   "cell_type": "code",
   "execution_count": null,
   "id": "64c33fd5-996d-462a-b1fc-f9f06be2857e",
   "metadata": {},
   "outputs": [],
   "source": []
  }
 ],
 "metadata": {
  "kernelspec": {
   "display_name": "Python 3 (ipykernel)",
   "language": "python",
   "name": "python3"
  },
  "language_info": {
   "codemirror_mode": {
    "name": "ipython",
    "version": 3
   },
   "file_extension": ".py",
   "mimetype": "text/x-python",
   "name": "python",
   "nbconvert_exporter": "python",
   "pygments_lexer": "ipython3",
   "version": "3.11.9"
  }
 },
 "nbformat": 4,
 "nbformat_minor": 5
}
